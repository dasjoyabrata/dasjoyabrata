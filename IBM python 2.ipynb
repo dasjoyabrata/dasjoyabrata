{
 "cells": [
  {
   "cell_type": "code",
   "execution_count": 7,
   "id": "460bdf59",
   "metadata": {
    "ExecuteTime": {
     "end_time": "2023-01-04T12:09:24.726453Z",
     "start_time": "2023-01-04T12:09:23.102416Z"
    }
   },
   "outputs": [],
   "source": [
    "import pandas as pd"
   ]
  },
  {
   "cell_type": "code",
   "execution_count": 22,
   "id": "48024524",
   "metadata": {
    "ExecuteTime": {
     "end_time": "2023-01-04T12:21:08.669024Z",
     "start_time": "2023-01-04T12:21:08.653516Z"
    }
   },
   "outputs": [],
   "source": [
    "import numpy as np"
   ]
  },
  {
   "cell_type": "code",
   "execution_count": 5,
   "id": "9e3915ff",
   "metadata": {
    "ExecuteTime": {
     "end_time": "2023-01-04T11:11:33.019919Z",
     "start_time": "2023-01-04T11:11:33.002001Z"
    }
   },
   "outputs": [],
   "source": [
    "a = np.array([2,3,4,5,6])"
   ]
  },
  {
   "cell_type": "code",
   "execution_count": 6,
   "id": "3e9e354d",
   "metadata": {
    "ExecuteTime": {
     "end_time": "2023-01-04T11:11:46.293306Z",
     "start_time": "2023-01-04T11:11:46.270416Z"
    }
   },
   "outputs": [
    {
     "data": {
      "text/plain": [
       "numpy.ndarray"
      ]
     },
     "execution_count": 6,
     "metadata": {},
     "output_type": "execute_result"
    }
   ],
   "source": [
    "type(a)"
   ]
  },
  {
   "cell_type": "code",
   "execution_count": 7,
   "id": "0964c601",
   "metadata": {
    "ExecuteTime": {
     "end_time": "2023-01-04T11:12:06.707309Z",
     "start_time": "2023-01-04T11:12:06.694941Z"
    }
   },
   "outputs": [
    {
     "data": {
      "text/plain": [
       "5"
      ]
     },
     "execution_count": 7,
     "metadata": {},
     "output_type": "execute_result"
    }
   ],
   "source": [
    "a.size"
   ]
  },
  {
   "cell_type": "code",
   "execution_count": 9,
   "id": "170fed78",
   "metadata": {
    "ExecuteTime": {
     "end_time": "2023-01-04T11:12:32.637989Z",
     "start_time": "2023-01-04T11:12:32.622174Z"
    }
   },
   "outputs": [
    {
     "data": {
      "text/plain": [
       "dtype('int32')"
      ]
     },
     "execution_count": 9,
     "metadata": {},
     "output_type": "execute_result"
    }
   ],
   "source": [
    "a.dtype"
   ]
  },
  {
   "cell_type": "code",
   "execution_count": 10,
   "id": "47cb9e5d",
   "metadata": {
    "ExecuteTime": {
     "end_time": "2023-01-04T11:13:24.590379Z",
     "start_time": "2023-01-04T11:13:24.575306Z"
    }
   },
   "outputs": [
    {
     "data": {
      "text/plain": [
       "array([2, 3, 4, 5])"
      ]
     },
     "execution_count": 10,
     "metadata": {},
     "output_type": "execute_result"
    }
   ],
   "source": [
    "a[:-1]"
   ]
  },
  {
   "cell_type": "code",
   "execution_count": null,
   "id": "dc8cc6a7",
   "metadata": {},
   "outputs": [],
   "source": []
  },
  {
   "cell_type": "code",
   "execution_count": 8,
   "id": "ad4b6af6",
   "metadata": {
    "ExecuteTime": {
     "end_time": "2023-01-04T11:12:13.242623Z",
     "start_time": "2023-01-04T11:12:13.222222Z"
    }
   },
   "outputs": [
    {
     "data": {
      "text/plain": [
       "(5,)"
      ]
     },
     "execution_count": 8,
     "metadata": {},
     "output_type": "execute_result"
    }
   ],
   "source": [
    "a.shape"
   ]
  },
  {
   "cell_type": "code",
   "execution_count": 12,
   "id": "f367b136",
   "metadata": {
    "ExecuteTime": {
     "end_time": "2023-01-04T11:21:24.069240Z",
     "start_time": "2023-01-04T11:21:24.058722Z"
    }
   },
   "outputs": [
    {
     "data": {
      "text/plain": [
       "array([ 1.        ,  1.47368421,  1.94736842,  2.42105263,  2.89473684,\n",
       "        3.36842105,  3.84210526,  4.31578947,  4.78947368,  5.26315789,\n",
       "        5.73684211,  6.21052632,  6.68421053,  7.15789474,  7.63157895,\n",
       "        8.10526316,  8.57894737,  9.05263158,  9.52631579, 10.        ])"
      ]
     },
     "execution_count": 12,
     "metadata": {},
     "output_type": "execute_result"
    }
   ],
   "source": [
    "np.linspace(1,10,20)"
   ]
  },
  {
   "cell_type": "code",
   "execution_count": 13,
   "id": "d1552c36",
   "metadata": {
    "ExecuteTime": {
     "end_time": "2023-01-04T11:23:35.055311Z",
     "start_time": "2023-01-04T11:23:35.048091Z"
    }
   },
   "outputs": [],
   "source": [
    "a= [[11,12,13],[21,22,23],[31,32,33]]\n",
    "arr = np.array(a)"
   ]
  },
  {
   "cell_type": "code",
   "execution_count": 14,
   "id": "39118db8",
   "metadata": {
    "ExecuteTime": {
     "end_time": "2023-01-04T11:23:44.664915Z",
     "start_time": "2023-01-04T11:23:44.647979Z"
    }
   },
   "outputs": [
    {
     "data": {
      "text/plain": [
       "array([[11, 12, 13],\n",
       "       [21, 22, 23],\n",
       "       [31, 32, 33]])"
      ]
     },
     "execution_count": 14,
     "metadata": {},
     "output_type": "execute_result"
    }
   ],
   "source": [
    "arr"
   ]
  },
  {
   "cell_type": "code",
   "execution_count": 15,
   "id": "4918c56b",
   "metadata": {
    "ExecuteTime": {
     "end_time": "2023-01-04T11:23:56.295061Z",
     "start_time": "2023-01-04T11:23:56.271435Z"
    }
   },
   "outputs": [
    {
     "data": {
      "text/plain": [
       "2"
      ]
     },
     "execution_count": 15,
     "metadata": {},
     "output_type": "execute_result"
    }
   ],
   "source": [
    "arr.ndim"
   ]
  },
  {
   "cell_type": "code",
   "execution_count": 16,
   "id": "57b4d9b6",
   "metadata": {
    "ExecuteTime": {
     "end_time": "2023-01-04T11:24:09.097642Z",
     "start_time": "2023-01-04T11:24:09.084513Z"
    }
   },
   "outputs": [
    {
     "data": {
      "text/plain": [
       "(3, 3)"
      ]
     },
     "execution_count": 16,
     "metadata": {},
     "output_type": "execute_result"
    }
   ],
   "source": [
    "arr.shape"
   ]
  },
  {
   "cell_type": "code",
   "execution_count": 17,
   "id": "cc5522f1",
   "metadata": {
    "ExecuteTime": {
     "end_time": "2023-01-04T11:25:09.585190Z",
     "start_time": "2023-01-04T11:25:09.568560Z"
    }
   },
   "outputs": [
    {
     "data": {
      "text/plain": [
       "9"
      ]
     },
     "execution_count": 17,
     "metadata": {},
     "output_type": "execute_result"
    }
   ],
   "source": [
    "arr.size"
   ]
  },
  {
   "cell_type": "code",
   "execution_count": 23,
   "id": "3ad1dcc6",
   "metadata": {
    "ExecuteTime": {
     "end_time": "2023-01-04T11:32:27.614655Z",
     "start_time": "2023-01-04T11:32:27.590151Z"
    }
   },
   "outputs": [
    {
     "data": {
      "text/plain": [
       "22"
      ]
     },
     "execution_count": 23,
     "metadata": {},
     "output_type": "execute_result"
    }
   ],
   "source": [
    "arr[1,1]"
   ]
  },
  {
   "cell_type": "code",
   "execution_count": 24,
   "id": "60637e72",
   "metadata": {
    "ExecuteTime": {
     "end_time": "2023-01-04T11:35:11.919975Z",
     "start_time": "2023-01-04T11:35:11.900616Z"
    }
   },
   "outputs": [
    {
     "data": {
      "text/plain": [
       "array([[12, 13],\n",
       "       [22, 23]])"
      ]
     },
     "execution_count": 24,
     "metadata": {},
     "output_type": "execute_result"
    }
   ],
   "source": [
    "arr[0:2,1:]"
   ]
  },
  {
   "cell_type": "code",
   "execution_count": 25,
   "id": "617dbdea",
   "metadata": {
    "ExecuteTime": {
     "end_time": "2023-01-04T11:39:21.700856Z",
     "start_time": "2023-01-04T11:39:21.682670Z"
    }
   },
   "outputs": [],
   "source": [
    "a=np.array([-1,1])\n",
    "b=np.array([1,1])"
   ]
  },
  {
   "cell_type": "code",
   "execution_count": 31,
   "id": "576c4d79",
   "metadata": {
    "ExecuteTime": {
     "end_time": "2023-01-04T11:50:58.481476Z",
     "start_time": "2023-01-04T11:50:58.465525Z"
    }
   },
   "outputs": [
    {
     "data": {
      "text/plain": [
       "0"
      ]
     },
     "execution_count": 31,
     "metadata": {},
     "output_type": "execute_result"
    }
   ],
   "source": [
    "np.dot(a,b)"
   ]
  },
  {
   "cell_type": "code",
   "execution_count": 28,
   "id": "62ce4a0b",
   "metadata": {
    "ExecuteTime": {
     "end_time": "2023-01-04T11:42:31.964897Z",
     "start_time": "2023-01-04T11:42:31.942066Z"
    }
   },
   "outputs": [],
   "source": [
    "X=np.array([[1,0],[0,1]])\n",
    "Y=np.array([[2,2],[2,2]])\n",
    "Z=np.dot(X,Y)"
   ]
  },
  {
   "cell_type": "code",
   "execution_count": 30,
   "id": "5cc82679",
   "metadata": {
    "ExecuteTime": {
     "end_time": "2023-01-04T11:42:48.736261Z",
     "start_time": "2023-01-04T11:42:48.720797Z"
    }
   },
   "outputs": [
    {
     "data": {
      "text/plain": [
       "array([[2, 2],\n",
       "       [2, 2]])"
      ]
     },
     "execution_count": 30,
     "metadata": {},
     "output_type": "execute_result"
    }
   ],
   "source": [
    "Z"
   ]
  },
  {
   "cell_type": "code",
   "execution_count": 22,
   "id": "cacfc850",
   "metadata": {
    "ExecuteTime": {
     "end_time": "2023-01-04T11:30:42.318116Z",
     "start_time": "2023-01-04T11:30:42.305497Z"
    }
   },
   "outputs": [
    {
     "data": {
      "text/plain": [
       "array([[22, 23],\n",
       "       [32, 33]])"
      ]
     },
     "execution_count": 22,
     "metadata": {},
     "output_type": "execute_result"
    }
   ],
   "source": [
    "arr[1:,1:]"
   ]
  },
  {
   "cell_type": "code",
   "execution_count": 34,
   "id": "179cf822",
   "metadata": {
    "ExecuteTime": {
     "end_time": "2023-01-04T13:51:04.029755Z",
     "start_time": "2023-01-04T13:51:02.567771Z"
    }
   },
   "outputs": [
    {
     "ename": "ModuleNotFoundError",
     "evalue": "No module named 'mplfinance'",
     "output_type": "error",
     "traceback": [
      "\u001b[1;31m---------------------------------------------------------------------------\u001b[0m",
      "\u001b[1;31mModuleNotFoundError\u001b[0m                       Traceback (most recent call last)",
      "Input \u001b[1;32mIn [34]\u001b[0m, in \u001b[0;36m<cell line: 8>\u001b[1;34m()\u001b[0m\n\u001b[0;32m      6\u001b[0m \u001b[38;5;28;01mimport\u001b[39;00m \u001b[38;5;21;01mdatetime\u001b[39;00m\n\u001b[0;32m      7\u001b[0m \u001b[38;5;28;01mfrom\u001b[39;00m \u001b[38;5;21;01mpycoingecko\u001b[39;00m \u001b[38;5;28;01mimport\u001b[39;00m CoinGeckoAPI\n\u001b[1;32m----> 8\u001b[0m \u001b[38;5;28;01mfrom\u001b[39;00m \u001b[38;5;21;01mmplfinance\u001b[39;00m\u001b[38;5;21;01m.\u001b[39;00m\u001b[38;5;21;01moriginal_flavor\u001b[39;00m \u001b[38;5;28;01mimport\u001b[39;00m candlestick2_ohlc\n",
      "\u001b[1;31mModuleNotFoundError\u001b[0m: No module named 'mplfinance'"
     ]
    }
   ],
   "source": [
    "import pandas as pd\n",
    "import numpy as np\n",
    "import plotly.graph_objects as go\n",
    "from plotly.offline import plot\n",
    "import matplotlib.pyplot as plt\n",
    "import datetime\n",
    "from pycoingecko import CoinGeckoAPI\n",
    "from mplfinance.original_flavor import candlestick2_ohlc"
   ]
  },
  {
   "cell_type": "code",
   "execution_count": 35,
   "id": "00045501",
   "metadata": {
    "ExecuteTime": {
     "end_time": "2023-01-04T13:51:06.495373Z",
     "start_time": "2023-01-04T13:51:06.490548Z"
    }
   },
   "outputs": [],
   "source": [
    "from pycoingecko import CoinGeckoAPI"
   ]
  },
  {
   "cell_type": "code",
   "execution_count": 36,
   "id": "b0256766",
   "metadata": {
    "ExecuteTime": {
     "end_time": "2023-01-04T13:51:08.842133Z",
     "start_time": "2023-01-04T13:51:07.959675Z"
    }
   },
   "outputs": [],
   "source": [
    "cg = CoinGeckoAPI()\n",
    "\n",
    "bitcoin_data = cg.get_coin_market_chart_by_id(id='bitcoin', vs_currency='usd',days=30)"
   ]
  },
  {
   "cell_type": "code",
   "execution_count": 40,
   "id": "162fe63b",
   "metadata": {
    "ExecuteTime": {
     "end_time": "2023-01-04T13:52:51.100575Z",
     "start_time": "2023-01-04T13:52:51.086452Z"
    }
   },
   "outputs": [
    {
     "data": {
      "text/plain": [
       "[[1670248909666, 17269.310501635624],\n",
       " [1670252462430, 17219.590861680957],\n",
       " [1670256055457, 17095.134772010668],\n",
       " [1670259704174, 17056.581550243616],\n",
       " [1670263331517, 17076.030889043755]]"
      ]
     },
     "execution_count": 40,
     "metadata": {},
     "output_type": "execute_result"
    }
   ],
   "source": [
    "bitcoin_price_data = bitcoin_data['prices']\n",
    "\n",
    "bitcoin_price_data[0:5]"
   ]
  },
  {
   "cell_type": "code",
   "execution_count": 41,
   "id": "38ef1bd5",
   "metadata": {
    "ExecuteTime": {
     "end_time": "2023-01-04T13:53:08.084279Z",
     "start_time": "2023-01-04T13:53:08.065520Z"
    }
   },
   "outputs": [],
   "source": [
    "data = pd.DataFrame(bitcoin_price_data, columns=['TimeStamp', 'Price'])"
   ]
  },
  {
   "cell_type": "code",
   "execution_count": 42,
   "id": "87004f38",
   "metadata": {
    "ExecuteTime": {
     "end_time": "2023-01-04T13:53:11.663389Z",
     "start_time": "2023-01-04T13:53:11.639984Z"
    }
   },
   "outputs": [
    {
     "data": {
      "text/html": [
       "<div>\n",
       "<style scoped>\n",
       "    .dataframe tbody tr th:only-of-type {\n",
       "        vertical-align: middle;\n",
       "    }\n",
       "\n",
       "    .dataframe tbody tr th {\n",
       "        vertical-align: top;\n",
       "    }\n",
       "\n",
       "    .dataframe thead th {\n",
       "        text-align: right;\n",
       "    }\n",
       "</style>\n",
       "<table border=\"1\" class=\"dataframe\">\n",
       "  <thead>\n",
       "    <tr style=\"text-align: right;\">\n",
       "      <th></th>\n",
       "      <th>TimeStamp</th>\n",
       "      <th>Price</th>\n",
       "    </tr>\n",
       "  </thead>\n",
       "  <tbody>\n",
       "    <tr>\n",
       "      <th>0</th>\n",
       "      <td>1670248909666</td>\n",
       "      <td>17269.310502</td>\n",
       "    </tr>\n",
       "    <tr>\n",
       "      <th>1</th>\n",
       "      <td>1670252462430</td>\n",
       "      <td>17219.590862</td>\n",
       "    </tr>\n",
       "    <tr>\n",
       "      <th>2</th>\n",
       "      <td>1670256055457</td>\n",
       "      <td>17095.134772</td>\n",
       "    </tr>\n",
       "    <tr>\n",
       "      <th>3</th>\n",
       "      <td>1670259704174</td>\n",
       "      <td>17056.581550</td>\n",
       "    </tr>\n",
       "    <tr>\n",
       "      <th>4</th>\n",
       "      <td>1670263331517</td>\n",
       "      <td>17076.030889</td>\n",
       "    </tr>\n",
       "  </tbody>\n",
       "</table>\n",
       "</div>"
      ],
      "text/plain": [
       "       TimeStamp         Price\n",
       "0  1670248909666  17269.310502\n",
       "1  1670252462430  17219.590862\n",
       "2  1670256055457  17095.134772\n",
       "3  1670259704174  17056.581550\n",
       "4  1670263331517  17076.030889"
      ]
     },
     "execution_count": 42,
     "metadata": {},
     "output_type": "execute_result"
    }
   ],
   "source": [
    "data.head()"
   ]
  },
  {
   "cell_type": "code",
   "execution_count": 50,
   "id": "49b65f40",
   "metadata": {
    "ExecuteTime": {
     "end_time": "2023-01-04T17:26:23.339271Z",
     "start_time": "2023-01-04T17:26:23.329691Z"
    }
   },
   "outputs": [
    {
     "name": "stdout",
     "output_type": "stream",
     "text": [
      "0246\n"
     ]
    }
   ],
   "source": [
    "var = \"01234567\"\n",
    "print(var[::2])"
   ]
  },
  {
   "cell_type": "code",
   "execution_count": 51,
   "id": "ca79f363",
   "metadata": {
    "ExecuteTime": {
     "end_time": "2023-01-04T17:27:38.547881Z",
     "start_time": "2023-01-04T17:27:38.533642Z"
    }
   },
   "outputs": [],
   "source": [
    "x=2/2"
   ]
  },
  {
   "cell_type": "code",
   "execution_count": 52,
   "id": "7962ace6",
   "metadata": {
    "ExecuteTime": {
     "end_time": "2023-01-04T17:27:52.732546Z",
     "start_time": "2023-01-04T17:27:52.695825Z"
    }
   },
   "outputs": [
    {
     "data": {
      "text/plain": [
       "1.0"
      ]
     },
     "execution_count": 52,
     "metadata": {},
     "output_type": "execute_result"
    }
   ],
   "source": [
    "x"
   ]
  },
  {
   "cell_type": "code",
   "execution_count": 53,
   "id": "8919db9c",
   "metadata": {
    "ExecuteTime": {
     "end_time": "2023-01-04T17:28:33.057139Z",
     "start_time": "2023-01-04T17:28:33.039806Z"
    }
   },
   "outputs": [
    {
     "data": {
      "text/plain": [
       "['1', '2', '3', '4']"
      ]
     },
     "execution_count": 53,
     "metadata": {},
     "output_type": "execute_result"
    }
   ],
   "source": [
    "'1,2,3,4'.split(',') "
   ]
  },
  {
   "cell_type": "code",
   "execution_count": 58,
   "id": "c5a902b9",
   "metadata": {
    "ExecuteTime": {
     "end_time": "2023-01-04T17:36:27.800832Z",
     "start_time": "2023-01-04T17:36:27.791147Z"
    }
   },
   "outputs": [
    {
     "name": "stdout",
     "output_type": "stream",
     "text": [
      "2\n",
      "3\n",
      "4\n"
     ]
    }
   ],
   "source": [
    "for i in range(1,5):\n",
    "    if(i!=1):\n",
    "        print(i)"
   ]
  },
  {
   "cell_type": "code",
   "execution_count": 60,
   "id": "da98fa8c",
   "metadata": {
    "ExecuteTime": {
     "end_time": "2023-01-05T09:29:43.195879Z",
     "start_time": "2023-01-05T09:29:42.750754Z"
    }
   },
   "outputs": [],
   "source": [
    "import requests\n",
    "import html5lib\n",
    "import bs4"
   ]
  }
 ],
 "metadata": {
  "kernelspec": {
   "display_name": "Python 3 (ipykernel)",
   "language": "python",
   "name": "python3"
  },
  "language_info": {
   "codemirror_mode": {
    "name": "ipython",
    "version": 3
   },
   "file_extension": ".py",
   "mimetype": "text/x-python",
   "name": "python",
   "nbconvert_exporter": "python",
   "pygments_lexer": "ipython3",
   "version": "3.9.12"
  },
  "latex_envs": {
   "LaTeX_envs_menu_present": true,
   "autoclose": false,
   "autocomplete": true,
   "bibliofile": "biblio.bib",
   "cite_by": "apalike",
   "current_citInitial": 1,
   "eqLabelWithNumbers": true,
   "eqNumInitial": 1,
   "hotkeys": {
    "equation": "Ctrl-E",
    "itemize": "Ctrl-I"
   },
   "labels_anchors": false,
   "latex_user_defs": false,
   "report_style_numbering": false,
   "user_envs_cfg": false
  },
  "toc": {
   "base_numbering": 1,
   "nav_menu": {},
   "number_sections": true,
   "sideBar": true,
   "skip_h1_title": false,
   "title_cell": "Table of Contents",
   "title_sidebar": "Contents",
   "toc_cell": false,
   "toc_position": {},
   "toc_section_display": true,
   "toc_window_display": false
  },
  "varInspector": {
   "cols": {
    "lenName": 16,
    "lenType": 16,
    "lenVar": 40
   },
   "kernels_config": {
    "python": {
     "delete_cmd_postfix": "",
     "delete_cmd_prefix": "del ",
     "library": "var_list.py",
     "varRefreshCmd": "print(var_dic_list())"
    },
    "r": {
     "delete_cmd_postfix": ") ",
     "delete_cmd_prefix": "rm(",
     "library": "var_list.r",
     "varRefreshCmd": "cat(var_dic_list()) "
    }
   },
   "types_to_exclude": [
    "module",
    "function",
    "builtin_function_or_method",
    "instance",
    "_Feature"
   ],
   "window_display": false
  }
 },
 "nbformat": 4,
 "nbformat_minor": 5
}
