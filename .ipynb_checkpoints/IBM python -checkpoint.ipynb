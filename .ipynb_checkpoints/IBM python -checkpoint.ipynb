{
 "cells": [
  {
   "cell_type": "markdown",
   "id": "602e0067",
   "metadata": {
    "toc": true
   },
   "source": [
    "<h1>Table of Contents<span class=\"tocSkip\"></span></h1>\n",
    "<div class=\"toc\"><ul class=\"toc-item\"><li><span><a href=\"#Object-and-Classes\" data-toc-modified-id=\"Object-and-Classes-1\">Object and Classes</a></span></li></ul></div>"
   ]
  },
  {
   "cell_type": "code",
   "execution_count": 3,
   "id": "0c0b979f",
   "metadata": {
    "ExecuteTime": {
     "end_time": "2023-01-03T10:10:01.972998Z",
     "start_time": "2023-01-03T10:10:01.962078Z"
    }
   },
   "outputs": [
    {
     "data": {
      "text/plain": [
       "list"
      ]
     },
     "execution_count": 3,
     "metadata": {},
     "output_type": "execute_result"
    }
   ],
   "source": [
    "L= [1,3,2]\n",
    "type(L)"
   ]
  },
  {
   "cell_type": "code",
   "execution_count": 4,
   "id": "04a02f79",
   "metadata": {
    "ExecuteTime": {
     "end_time": "2023-01-03T10:10:04.544356Z",
     "start_time": "2023-01-03T10:10:04.524992Z"
    }
   },
   "outputs": [
    {
     "data": {
      "text/plain": [
       "[1, 2, 3]"
      ]
     },
     "execution_count": 4,
     "metadata": {},
     "output_type": "execute_result"
    }
   ],
   "source": [
    "sorted(L)"
   ]
  },
  {
   "cell_type": "code",
   "execution_count": 5,
   "id": "01c25512",
   "metadata": {
    "ExecuteTime": {
     "end_time": "2023-01-03T10:25:53.713170Z",
     "start_time": "2023-01-03T10:25:53.693926Z"
    }
   },
   "outputs": [
    {
     "data": {
      "text/plain": [
       "'jairam'"
      ]
     },
     "execution_count": 5,
     "metadata": {},
     "output_type": "execute_result"
    }
   ],
   "source": [
    "def con(a,b):\n",
    "    return a+b\n",
    "\n",
    "con(\"jai\",\"ram\")\n",
    "    "
   ]
  },
  {
   "cell_type": "code",
   "execution_count": 13,
   "id": "3d18f959",
   "metadata": {
    "ExecuteTime": {
     "end_time": "2023-01-03T10:55:53.634288Z",
     "start_time": "2023-01-03T10:55:53.616973Z"
    }
   },
   "outputs": [
    {
     "name": "stdout",
     "output_type": "stream",
     "text": [
      "Michael Jackson is an artist\n"
     ]
    }
   ],
   "source": [
    "# Example of global variable\n",
    "\n",
    "artist = \"Michael Jackson\"\n",
    "def printer1(artist):\n",
    "    internal_var1 = artist\n",
    "    print(artist+\" \"+\"is an artist\")\n",
    "    \n",
    "printer1(artist)\n",
    "# try runningthe following code\n",
    "#printer1(internal_var1) "
   ]
  },
  {
   "cell_type": "code",
   "execution_count": 14,
   "id": "ca9a49f2",
   "metadata": {
    "ExecuteTime": {
     "end_time": "2023-01-03T10:57:35.165653Z",
     "start_time": "2023-01-03T10:57:35.148369Z"
    }
   },
   "outputs": [
    {
     "name": "stdout",
     "output_type": "stream",
     "text": [
      "Country : Canada\n",
      "Province : Ontario\n",
      "City : Toronto\n"
     ]
    }
   ],
   "source": [
    "def printDictionary(**args):\n",
    "    for key in args:\n",
    "        print(key + \" : \" + args[key])\n",
    "\n",
    "printDictionary(Country='Canada',Province='Ontario',City='Toronto')\n",
    "    "
   ]
  },
  {
   "cell_type": "code",
   "execution_count": 15,
   "id": "d1c5fb0b",
   "metadata": {
    "ExecuteTime": {
     "end_time": "2023-01-03T10:58:30.120491Z",
     "start_time": "2023-01-03T10:58:30.104666Z"
    }
   },
   "outputs": [
    {
     "name": "stdout",
     "output_type": "stream",
     "text": [
      "No of arguments: 3\n",
      "Horsefeather\n",
      "Adonis\n",
      "Bone\n",
      "No of arguments: 4\n",
      "Sidecar\n",
      "Long Island\n",
      "Mudslide\n",
      "Carriage\n"
     ]
    }
   ],
   "source": [
    "def printAll(*args): # All the arguments are 'packed' into args which can be treated like a tuple\n",
    "    print(\"No of arguments:\", len(args)) \n",
    "    for argument in args:\n",
    "        print(argument)\n",
    "#printAll with 3 arguments\n",
    "printAll('Horsefeather','Adonis','Bone')\n",
    "#printAll with 4 arguments\n",
    "printAll('Sidecar','Long Island','Mudslide','Carriage')"
   ]
  },
  {
   "cell_type": "code",
   "execution_count": 16,
   "id": "e7b6476b",
   "metadata": {
    "ExecuteTime": {
     "end_time": "2023-01-03T10:59:38.642084Z",
     "start_time": "2023-01-03T10:59:38.615170Z"
    }
   },
   "outputs": [
    {
     "name": "stdout",
     "output_type": "stream",
     "text": [
      "No of arguments: 3\n",
      "('Horsefeather', 'Adonis', 'Bone')\n",
      "No of arguments: 4\n",
      "('Sidecar', 'Long Island', 'Mudslide', 'Carriage')\n"
     ]
    }
   ],
   "source": [
    "def printAll(*args): # All the arguments are 'packed' into args which can be treated like a tuple\n",
    "    print(\"No of arguments:\", len(args)) \n",
    "    print(args)\n",
    "#printAll with 3 arguments\n",
    "printAll('Horsefeather','Adonis','Bone')\n",
    "#printAll with 4 arguments\n",
    "printAll('Sidecar','Long Island','Mudslide','Carriage')"
   ]
  },
  {
   "cell_type": "markdown",
   "id": "4e6514d2",
   "metadata": {},
   "source": [
    "# Object and Classes "
   ]
  },
  {
   "cell_type": "code",
   "execution_count": 53,
   "id": "fcf8e2e7",
   "metadata": {
    "ExecuteTime": {
     "end_time": "2023-01-03T16:42:18.685780Z",
     "start_time": "2023-01-03T16:42:18.668530Z"
    }
   },
   "outputs": [
    {
     "name": "stdout",
     "output_type": "stream",
     "text": [
      "John age:37\n",
      "Hello my name is John\n"
     ]
    }
   ],
   "source": [
    "class Person():\n",
    "    def __init__(self,name,age):\n",
    "        self.name=name\n",
    "        self.age= age\n",
    "    def __str__(self):\n",
    "        return f\"{self.name} age:{self.age}\"\n",
    "    def greeting(self):\n",
    "        print(\"Hello my name is\", self.name)\n",
    "\n",
    "p1= Person(\"John\",37)\n",
    "\n",
    "print(p1)\n",
    "p1.greeting()\n",
    "        "
   ]
  },
  {
   "cell_type": "code",
   "execution_count": 37,
   "id": "ed9c637d",
   "metadata": {
    "ExecuteTime": {
     "end_time": "2023-01-03T16:27:04.666750Z",
     "start_time": "2023-01-03T16:27:04.649766Z"
    }
   },
   "outputs": [
    {
     "name": "stdout",
     "output_type": "stream",
     "text": [
      "<__main__.Person object at 0x000001911D1F14C0>\n"
     ]
    }
   ],
   "source": [
    "class Person:\n",
    "  def __init__(self, name, age):\n",
    "    self.name = name\n",
    "    self.age = age\n",
    "\n",
    "p1 = Person(\"John\", 36)\n",
    "\n",
    "print(p1)"
   ]
  }
 ],
 "metadata": {
  "kernelspec": {
   "display_name": "Python 3 (ipykernel)",
   "language": "python",
   "name": "python3"
  },
  "language_info": {
   "codemirror_mode": {
    "name": "ipython",
    "version": 3
   },
   "file_extension": ".py",
   "mimetype": "text/x-python",
   "name": "python",
   "nbconvert_exporter": "python",
   "pygments_lexer": "ipython3",
   "version": "3.9.12"
  },
  "latex_envs": {
   "LaTeX_envs_menu_present": true,
   "autoclose": false,
   "autocomplete": true,
   "bibliofile": "biblio.bib",
   "cite_by": "apalike",
   "current_citInitial": 1,
   "eqLabelWithNumbers": true,
   "eqNumInitial": 1,
   "hotkeys": {
    "equation": "Ctrl-E",
    "itemize": "Ctrl-I"
   },
   "labels_anchors": false,
   "latex_user_defs": false,
   "report_style_numbering": false,
   "user_envs_cfg": false
  },
  "toc": {
   "base_numbering": 1,
   "nav_menu": {},
   "number_sections": false,
   "sideBar": true,
   "skip_h1_title": false,
   "title_cell": "Table of Contents",
   "title_sidebar": "Contents",
   "toc_cell": true,
   "toc_position": {
    "height": "calc(100% - 180px)",
    "left": "10px",
    "top": "150px",
    "width": "377px"
   },
   "toc_section_display": true,
   "toc_window_display": false
  },
  "varInspector": {
   "cols": {
    "lenName": 16,
    "lenType": 16,
    "lenVar": 40
   },
   "kernels_config": {
    "python": {
     "delete_cmd_postfix": "",
     "delete_cmd_prefix": "del ",
     "library": "var_list.py",
     "varRefreshCmd": "print(var_dic_list())"
    },
    "r": {
     "delete_cmd_postfix": ") ",
     "delete_cmd_prefix": "rm(",
     "library": "var_list.r",
     "varRefreshCmd": "cat(var_dic_list()) "
    }
   },
   "types_to_exclude": [
    "module",
    "function",
    "builtin_function_or_method",
    "instance",
    "_Feature"
   ],
   "window_display": false
  }
 },
 "nbformat": 4,
 "nbformat_minor": 5
}
