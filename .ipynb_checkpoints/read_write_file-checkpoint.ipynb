{
 "cells": [
  {
   "cell_type": "code",
   "execution_count": 5,
   "id": "cac9f78e",
   "metadata": {
    "ExecuteTime": {
     "end_time": "2023-01-04T07:34:07.093173Z",
     "start_time": "2023-01-04T07:34:07.069172Z"
    }
   },
   "outputs": [],
   "source": [
    "with open (\"joy.txt\",\"w\") as file_1:\n",
    "    file_1.write(\"Hello\\n world\")\n"
   ]
  },
  {
   "cell_type": "code",
   "execution_count": 6,
   "id": "ad7dd59b",
   "metadata": {
    "ExecuteTime": {
     "end_time": "2023-01-04T07:34:45.435081Z",
     "start_time": "2023-01-04T07:34:45.423130Z"
    }
   },
   "outputs": [
    {
     "name": "stdout",
     "output_type": "stream",
     "text": [
      "<_io.TextIOWrapper name='joy.txt' mode='w' encoding='cp1252'>\n"
     ]
    }
   ],
   "source": [
    "print(file_1)"
   ]
  },
  {
   "cell_type": "code",
   "execution_count": 7,
   "id": "867727fd",
   "metadata": {
    "ExecuteTime": {
     "end_time": "2023-01-04T07:38:40.898436Z",
     "start_time": "2023-01-04T07:38:40.874667Z"
    }
   },
   "outputs": [
    {
     "name": "stdout",
     "output_type": "stream",
     "text": [
      "Hello\n",
      " world\n",
      "My name is Joyabrata Das.\n",
      "From Kolkata.\n",
      "Want to be data scientist.\n"
     ]
    }
   ],
   "source": [
    "with open(\"joy.txt\",\"r\") as file_r:\n",
    "    file_stuff= file_r.read()\n",
    "    print(file_stuff)"
   ]
  },
  {
   "cell_type": "code",
   "execution_count": 8,
   "id": "ae9995e0",
   "metadata": {
    "ExecuteTime": {
     "end_time": "2023-01-04T07:39:46.082399Z",
     "start_time": "2023-01-04T07:39:46.071878Z"
    }
   },
   "outputs": [
    {
     "name": "stdout",
     "output_type": "stream",
     "text": [
      "True\n"
     ]
    }
   ],
   "source": [
    "print(file_r.closed)"
   ]
  },
  {
   "cell_type": "code",
   "execution_count": 9,
   "id": "e6f74ba0",
   "metadata": {
    "ExecuteTime": {
     "end_time": "2023-01-04T07:39:58.658935Z",
     "start_time": "2023-01-04T07:39:58.637627Z"
    }
   },
   "outputs": [
    {
     "name": "stdout",
     "output_type": "stream",
     "text": [
      "Hello\n",
      " world\n",
      "My name is Joyabrata Das.\n",
      "From Kolkata.\n",
      "Want to be data scientist.\n"
     ]
    }
   ],
   "source": [
    "print(file_stuff)"
   ]
  }
 ],
 "metadata": {
  "kernelspec": {
   "display_name": "Python 3 (ipykernel)",
   "language": "python",
   "name": "python3"
  },
  "language_info": {
   "codemirror_mode": {
    "name": "ipython",
    "version": 3
   },
   "file_extension": ".py",
   "mimetype": "text/x-python",
   "name": "python",
   "nbconvert_exporter": "python",
   "pygments_lexer": "ipython3",
   "version": "3.9.12"
  },
  "latex_envs": {
   "LaTeX_envs_menu_present": true,
   "autoclose": false,
   "autocomplete": true,
   "bibliofile": "biblio.bib",
   "cite_by": "apalike",
   "current_citInitial": 1,
   "eqLabelWithNumbers": true,
   "eqNumInitial": 1,
   "hotkeys": {
    "equation": "Ctrl-E",
    "itemize": "Ctrl-I"
   },
   "labels_anchors": false,
   "latex_user_defs": false,
   "report_style_numbering": false,
   "user_envs_cfg": false
  },
  "toc": {
   "base_numbering": 1,
   "nav_menu": {},
   "number_sections": true,
   "sideBar": true,
   "skip_h1_title": false,
   "title_cell": "Table of Contents",
   "title_sidebar": "Contents",
   "toc_cell": false,
   "toc_position": {},
   "toc_section_display": true,
   "toc_window_display": false
  },
  "varInspector": {
   "cols": {
    "lenName": 16,
    "lenType": 16,
    "lenVar": 40
   },
   "kernels_config": {
    "python": {
     "delete_cmd_postfix": "",
     "delete_cmd_prefix": "del ",
     "library": "var_list.py",
     "varRefreshCmd": "print(var_dic_list())"
    },
    "r": {
     "delete_cmd_postfix": ") ",
     "delete_cmd_prefix": "rm(",
     "library": "var_list.r",
     "varRefreshCmd": "cat(var_dic_list()) "
    }
   },
   "types_to_exclude": [
    "module",
    "function",
    "builtin_function_or_method",
    "instance",
    "_Feature"
   ],
   "window_display": false
  }
 },
 "nbformat": 4,
 "nbformat_minor": 5
}
