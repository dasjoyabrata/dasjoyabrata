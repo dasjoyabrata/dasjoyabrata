{
 "cells": [
  {
   "cell_type": "markdown",
   "id": "531a03e8-f43f-4b61-ab1f-fc880ef3af17",
   "metadata": {},
   "source": [
    "<center>\n",
    "    <img src=\"https://cf-courses-data.s3.us.cloud-object-storage.appdomain.cloud/IBMDeveloperSkillsNetwork-PY0220EN-SkillsNetwork/labs/project/Images/SN_logo.png\" width=\"300\" alt=\"cognitiveclass.ai logo\">\n",
    "</center>\n"
   ]
  },
  {
   "cell_type": "markdown",
   "id": "2cfdc328-2d10-4402-a4cc-7f4e2034daeb",
   "metadata": {},
   "source": [
    "<h1>Extracting Stock Data Using a Python Library</h1>\n"
   ]
  },
  {
   "cell_type": "markdown",
   "id": "9c9565cb-9e69-4a55-be3c-d01bc5051b76",
   "metadata": {},
   "source": [
    "A company's stock share is a piece of the company more precisely:\n",
    "<p><b>A stock (also known as equity) is a security that represents the ownership of a fraction of a corporation. This\n",
    "entitles the owner of the stock to a proportion of the corporation's assets and profits equal to how much stock they own. Units of stock are called \"shares.\" [1]</p></b>\n",
    "\n",
    "An investor can buy a stock and sell it later. If the stock price increases, the investor profits, If it decreases,the investor with incur a loss.  Determining the stock price is complex; it depends on the number of outstanding shares, the size of the company's future profits, and much more. People trade stocks throughout the day the stock ticker is a report of the price of a certain stock, updated continuously throughout the trading session by the various stock market exchanges. \n",
    "<p>You are a data scientist working for a hedge fund; it's your job to determine any suspicious stock activity. In this lab you will extract stock data using a Python library. We will use the <coode>yfinance</code> library, it allows us to extract data for stocks returning data in a pandas dataframe. You will use the lab to extract.</p>\n"
   ]
  },
  {
   "cell_type": "markdown",
   "id": "eab83b6a-7e9e-4eb2-932b-297a553a0118",
   "metadata": {},
   "source": [
    "<h2>Table of Contents</h2>\n",
    "<div class=\"alert alert-block alert-info\" style=\"margin-top: 20px\">\n",
    "    <ul>\n",
    "        <li>Using yfinance to Extract Stock Info</li>\n",
    "        <li>Using yfinance to Extract Historical Share Price Data</li>\n",
    "        <li>Using yfinance to Extract Historical Dividends Data</li>\n",
    "        <li>Exercise</li>\n",
    "    </ul>\n",
    "<p>\n",
    "    Estimated Time Needed: <strong>30 min</strong></p>\n",
    "</div>\n",
    "\n",
    "<hr>\n"
   ]
  },
  {
   "cell_type": "code",
   "execution_count": null,
   "id": "711e1d26-0a25-4f98-b466-2813034d2d13",
   "metadata": {},
   "outputs": [],
   "source": [
    "!pip install yfinance==0.1.93\n",
    "#!pip install pandas==1.3.3"
   ]
  },
  {
   "cell_type": "code",
   "execution_count": 2,
   "id": "f822ffe1-7ede-48bf-81e4-63e9c208a75e",
   "metadata": {
    "ExecuteTime": {
     "end_time": "2023-01-05T12:39:09.641945Z",
     "start_time": "2023-01-05T12:39:08.057343Z"
    }
   },
   "outputs": [],
   "source": [
    "import yfinance as yf\n",
    "import pandas as pd"
   ]
  },
  {
   "cell_type": "markdown",
   "id": "14dcd488-fda6-4218-8865-39b2e62f6e69",
   "metadata": {},
   "source": [
    "## Using the yfinance Library to Extract Stock Data\n"
   ]
  },
  {
   "cell_type": "markdown",
   "id": "bf860c7b-4a98-4733-a093-d490f44781d5",
   "metadata": {},
   "source": [
    "Using the `Ticker` module we can create an object that will allow us to access functions to extract data. To do this we need to provide the ticker symbol for the stock, here the company is Apple and the ticker symbol is `AAPL`.\n"
   ]
  },
  {
   "cell_type": "code",
   "execution_count": 3,
   "id": "c8644b5a-9a23-4fb2-b58d-2a2714ed1285",
   "metadata": {
    "ExecuteTime": {
     "end_time": "2023-01-05T12:39:11.999528Z",
     "start_time": "2023-01-05T12:39:11.977955Z"
    }
   },
   "outputs": [],
   "source": [
    "apple = yf.Ticker(\"AAPL\")"
   ]
  },
  {
   "cell_type": "markdown",
   "id": "c1d4ea6c-e747-471e-b9b4-c06be7bc2c72",
   "metadata": {},
   "source": [
    "Now we can access functions and variables to extract the type of data we need. You can view them and what they represent here https://aroussi.com/post/python-yahoo-finance.\n"
   ]
  },
  {
   "cell_type": "markdown",
   "id": "9a38343d-91c3-426f-8376-148514d76daa",
   "metadata": {},
   "source": [
    "### Stock Info\n"
   ]
  },
  {
   "cell_type": "markdown",
   "id": "64877c9e-d966-44be-b834-e8c8cebac71b",
   "metadata": {},
   "source": [
    "Using the attribute  <code>info</code> we can extract information about the stock as a Python dictionary.\n"
   ]
  },
  {
   "cell_type": "code",
   "execution_count": 6,
   "id": "581fec54-3d21-4160-bbfc-d411fc821522",
   "metadata": {
    "ExecuteTime": {
     "end_time": "2023-01-05T12:39:33.181948Z",
     "start_time": "2023-01-05T12:39:33.153009Z"
    }
   },
   "outputs": [
    {
     "data": {
      "text/plain": [
       "{'zip': '95014',\n",
       " 'sector': 'Technology',\n",
       " 'fullTimeEmployees': 164000,\n",
       " 'longBusinessSummary': 'Apple Inc. designs, manufactures, and markets smartphones, personal computers, tablets, wearables, and accessories worldwide. It also sells various related services. In addition, the company offers iPhone, a line of smartphones; Mac, a line of personal computers; iPad, a line of multi-purpose tablets; and wearables, home, and accessories comprising AirPods, Apple TV, Apple Watch, Beats products, and HomePod. Further, it provides AppleCare support and cloud services store services; and operates various platforms, including the App Store that allow customers to discover and download applications and digital content, such as books, music, video, games, and podcasts. Additionally, the company offers various services, such as Apple Arcade, a game subscription service; Apple Fitness+, a personalized fitness service; Apple Music, which offers users a curated listening experience with on-demand radio stations; Apple News+, a subscription news and magazine service; Apple TV+, which offers exclusive original content; Apple Card, a co-branded credit card; and Apple Pay, a cashless payment service, as well as licenses its intellectual property. The company serves consumers, and small and mid-sized businesses; and the education, enterprise, and government markets. It distributes third-party applications for its products through the App Store. The company also sells its products through its retail and online stores, and direct sales force; and third-party cellular network carriers, wholesalers, retailers, and resellers. Apple Inc. was incorporated in 1977 and is headquartered in Cupertino, California.',\n",
       " 'city': 'Cupertino',\n",
       " 'phone': '408 996 1010',\n",
       " 'state': 'CA',\n",
       " 'country': 'United States',\n",
       " 'companyOfficers': [],\n",
       " 'website': 'https://www.apple.com',\n",
       " 'maxAge': 1,\n",
       " 'address1': 'One Apple Park Way',\n",
       " 'industry': 'Consumer Electronics',\n",
       " 'ebitdaMargins': 0.33105,\n",
       " 'profitMargins': 0.2531,\n",
       " 'grossMargins': 0.43310001,\n",
       " 'operatingCashflow': 122151002112,\n",
       " 'revenueGrowth': 0.081,\n",
       " 'operatingMargins': 0.30289,\n",
       " 'ebitda': 130541002752,\n",
       " 'targetLowPrice': 122,\n",
       " 'recommendationKey': 'buy',\n",
       " 'grossProfits': 170782000000,\n",
       " 'freeCashflow': 90215251968,\n",
       " 'targetMedianPrice': 175,\n",
       " 'currentPrice': 126.36,\n",
       " 'earningsGrowth': 0.048,\n",
       " 'currentRatio': 0.879,\n",
       " 'returnOnAssets': 0.21214001,\n",
       " 'numberOfAnalystOpinions': 41,\n",
       " 'targetMeanPrice': 175.23,\n",
       " 'debtToEquity': 261.446,\n",
       " 'returnOnEquity': 1.75459,\n",
       " 'targetHighPrice': 214,\n",
       " 'totalCash': 48304001024,\n",
       " 'totalDebt': 132480000000,\n",
       " 'totalRevenue': 394328014848,\n",
       " 'totalCashPerShare': 3.036,\n",
       " 'financialCurrency': 'USD',\n",
       " 'revenuePerShare': 24.317,\n",
       " 'quickRatio': 0.709,\n",
       " 'recommendationMean': 2,\n",
       " 'exchange': 'NMS',\n",
       " 'shortName': 'Apple Inc.',\n",
       " 'longName': 'Apple Inc.',\n",
       " 'exchangeTimezoneName': 'America/New_York',\n",
       " 'exchangeTimezoneShortName': 'EST',\n",
       " 'isEsgPopulated': False,\n",
       " 'gmtOffSetMilliseconds': '-18000000',\n",
       " 'quoteType': 'EQUITY',\n",
       " 'symbol': 'AAPL',\n",
       " 'messageBoardId': 'finmb_24937',\n",
       " 'market': 'us_market',\n",
       " 'annualHoldingsTurnover': None,\n",
       " 'enterpriseToRevenue': 5.259,\n",
       " 'beta3Year': None,\n",
       " 'enterpriseToEbitda': 15.886,\n",
       " '52WeekChange': -0.26534885,\n",
       " 'morningStarRiskRating': None,\n",
       " 'forwardEps': 6.75,\n",
       " 'revenueQuarterlyGrowth': None,\n",
       " 'sharesOutstanding': 15908100096,\n",
       " 'fundInceptionDate': None,\n",
       " 'annualReportExpenseRatio': None,\n",
       " 'totalAssets': None,\n",
       " 'bookValue': 3.178,\n",
       " 'sharesShort': 121757434,\n",
       " 'sharesPercentSharesOut': 0.0077,\n",
       " 'fundFamily': None,\n",
       " 'lastFiscalYearEnd': 1663977600,\n",
       " 'heldPercentInstitutions': 0.60909003,\n",
       " 'netIncomeToCommon': 99802996736,\n",
       " 'trailingEps': 5.88,\n",
       " 'lastDividendValue': 0.23,\n",
       " 'SandP52WeekChange': -0.1795296,\n",
       " 'priceToBook': 39.760857,\n",
       " 'heldPercentInsiders': 0.00071999995,\n",
       " 'nextFiscalYearEnd': 1727136000,\n",
       " 'yield': None,\n",
       " 'mostRecentQuarter': 1663977600,\n",
       " 'shortRatio': 1.67,\n",
       " 'sharesShortPreviousMonthDate': 1668470400,\n",
       " 'floatShares': 15891414476,\n",
       " 'beta': 1.219468,\n",
       " 'enterpriseValue': 2073804275712,\n",
       " 'priceHint': 2,\n",
       " 'threeYearAverageReturn': None,\n",
       " 'lastSplitDate': 1598832000,\n",
       " 'lastSplitFactor': '4:1',\n",
       " 'legalType': None,\n",
       " 'lastDividendDate': 1667520000,\n",
       " 'morningStarOverallRating': None,\n",
       " 'earningsQuarterlyGrowth': 0.008,\n",
       " 'priceToSalesTrailing12Months': 5.295752,\n",
       " 'dateShortInterest': 1671062400,\n",
       " 'pegRatio': 2.31,\n",
       " 'ytdReturn': None,\n",
       " 'forwardPE': 18.72,\n",
       " 'lastCapGain': None,\n",
       " 'shortPercentOfFloat': 0.0077,\n",
       " 'sharesShortPriorMonth': 114431895,\n",
       " 'impliedSharesOutstanding': 0,\n",
       " 'category': None,\n",
       " 'fiveYearAverageReturn': None,\n",
       " 'previousClose': 125.07,\n",
       " 'regularMarketOpen': 126.89,\n",
       " 'twoHundredDayAverage': 151.24515,\n",
       " 'trailingAnnualDividendYield': 0.00719597,\n",
       " 'payoutRatio': 0.14729999,\n",
       " 'volume24Hr': None,\n",
       " 'regularMarketDayHigh': 128.6557,\n",
       " 'navPrice': None,\n",
       " 'averageDailyVolume10Day': 81314230,\n",
       " 'regularMarketPreviousClose': 125.07,\n",
       " 'fiftyDayAverage': 142.2914,\n",
       " 'trailingAnnualDividendRate': 0.9,\n",
       " 'open': 126.89,\n",
       " 'toCurrency': None,\n",
       " 'averageVolume10days': 81314230,\n",
       " 'expireDate': None,\n",
       " 'algorithm': None,\n",
       " 'dividendRate': 0.92,\n",
       " 'exDividendDate': 1667520000,\n",
       " 'circulatingSupply': None,\n",
       " 'startDate': None,\n",
       " 'regularMarketDayLow': 125.08,\n",
       " 'currency': 'USD',\n",
       " 'trailingPE': 21.489796,\n",
       " 'regularMarketVolume': 88405765,\n",
       " 'lastMarket': None,\n",
       " 'maxSupply': None,\n",
       " 'openInterest': None,\n",
       " 'marketCap': 2088263352320,\n",
       " 'volumeAllCurrencies': None,\n",
       " 'strikePrice': None,\n",
       " 'averageVolume': 83678003,\n",
       " 'dayLow': 125.08,\n",
       " 'ask': 0,\n",
       " 'askSize': 900,\n",
       " 'volume': 88405765,\n",
       " 'fiftyTwoWeekHigh': 179.61,\n",
       " 'fromCurrency': None,\n",
       " 'fiveYearAvgDividendYield': 0.98,\n",
       " 'fiftyTwoWeekLow': 124.17,\n",
       " 'bid': 0,\n",
       " 'tradeable': False,\n",
       " 'dividendYield': 0.0070999996,\n",
       " 'bidSize': 1300,\n",
       " 'dayHigh': 128.6557,\n",
       " 'coinMarketCapLink': None,\n",
       " 'regularMarketPrice': 126.36,\n",
       " 'preMarketPrice': 127.6,\n",
       " 'logo_url': 'https://logo.clearbit.com/apple.com',\n",
       " 'trailingPegRatio': 2.5328}"
      ]
     },
     "execution_count": 6,
     "metadata": {},
     "output_type": "execute_result"
    }
   ],
   "source": [
    "apple_info=apple.info\n",
    "apple_info"
   ]
  },
  {
   "cell_type": "markdown",
   "id": "7975d6f0-7133-48fc-ac63-337fe8dec5b7",
   "metadata": {},
   "source": [
    "We can get the <code>'country'</code> using the key country\n"
   ]
  },
  {
   "cell_type": "code",
   "execution_count": 7,
   "id": "4db6dd4c-0547-4134-8e2c-2771a0eb3ae0",
   "metadata": {
    "ExecuteTime": {
     "end_time": "2023-01-05T12:39:43.252771Z",
     "start_time": "2023-01-05T12:39:43.241766Z"
    }
   },
   "outputs": [
    {
     "data": {
      "text/plain": [
       "'United States'"
      ]
     },
     "execution_count": 7,
     "metadata": {},
     "output_type": "execute_result"
    }
   ],
   "source": [
    "apple_info['country']"
   ]
  },
  {
   "cell_type": "markdown",
   "id": "093c1bc4-c41c-4990-8931-08b0bcd3ca9d",
   "metadata": {},
   "source": [
    "### Extracting Share Price\n"
   ]
  },
  {
   "cell_type": "markdown",
   "id": "a635ba2c-75d9-4375-9609-cb73dd0b7c84",
   "metadata": {},
   "source": [
    "A share is the single smallest part of a company's stock  that you can buy, the prices of these shares fluctuate over time. Using the <code>history()</code> method we can get the share price of the stock over a certain period of time. Using the `period` parameter we can set how far back from the present to get data. The options for `period` are 1 day (1d), 5d, 1 month (1mo) , 3mo, 6mo, 1 year (1y), 2y, 5y, 10y, ytd, and max.\n"
   ]
  },
  {
   "cell_type": "code",
   "execution_count": 8,
   "id": "3e4cae73-4eff-4641-8eb9-08edfd0b9a9b",
   "metadata": {
    "ExecuteTime": {
     "end_time": "2023-01-05T12:39:50.276853Z",
     "start_time": "2023-01-05T12:39:48.134726Z"
    }
   },
   "outputs": [],
   "source": [
    "apple_share_price_data = apple.history(period=\"max\")"
   ]
  },
  {
   "cell_type": "markdown",
   "id": "9077eda2-7d39-4c7a-9b21-477839070451",
   "metadata": {},
   "source": [
    "The format that the data is returned in is a Pandas DataFrame. With the `Date` as the index the share `Open`, `High`, `Low`, `Close`, `Volume`, and `Stock Splits` are given for each day.\n"
   ]
  },
  {
   "cell_type": "code",
   "execution_count": 9,
   "id": "615c94d7-a079-46f0-bd76-e09c70744e76",
   "metadata": {
    "ExecuteTime": {
     "end_time": "2023-01-05T12:39:52.348237Z",
     "start_time": "2023-01-05T12:39:52.322323Z"
    }
   },
   "outputs": [
    {
     "data": {
      "text/html": [
       "<div>\n",
       "<style scoped>\n",
       "    .dataframe tbody tr th:only-of-type {\n",
       "        vertical-align: middle;\n",
       "    }\n",
       "\n",
       "    .dataframe tbody tr th {\n",
       "        vertical-align: top;\n",
       "    }\n",
       "\n",
       "    .dataframe thead th {\n",
       "        text-align: right;\n",
       "    }\n",
       "</style>\n",
       "<table border=\"1\" class=\"dataframe\">\n",
       "  <thead>\n",
       "    <tr style=\"text-align: right;\">\n",
       "      <th></th>\n",
       "      <th>Open</th>\n",
       "      <th>High</th>\n",
       "      <th>Low</th>\n",
       "      <th>Close</th>\n",
       "      <th>Volume</th>\n",
       "      <th>Dividends</th>\n",
       "      <th>Stock Splits</th>\n",
       "    </tr>\n",
       "    <tr>\n",
       "      <th>Date</th>\n",
       "      <th></th>\n",
       "      <th></th>\n",
       "      <th></th>\n",
       "      <th></th>\n",
       "      <th></th>\n",
       "      <th></th>\n",
       "      <th></th>\n",
       "    </tr>\n",
       "  </thead>\n",
       "  <tbody>\n",
       "    <tr>\n",
       "      <th>1980-12-12 00:00:00-05:00</th>\n",
       "      <td>0.099874</td>\n",
       "      <td>0.100308</td>\n",
       "      <td>0.099874</td>\n",
       "      <td>0.099874</td>\n",
       "      <td>469033600</td>\n",
       "      <td>0.0</td>\n",
       "      <td>0.0</td>\n",
       "    </tr>\n",
       "    <tr>\n",
       "      <th>1980-12-15 00:00:00-05:00</th>\n",
       "      <td>0.095098</td>\n",
       "      <td>0.095098</td>\n",
       "      <td>0.094663</td>\n",
       "      <td>0.094663</td>\n",
       "      <td>175884800</td>\n",
       "      <td>0.0</td>\n",
       "      <td>0.0</td>\n",
       "    </tr>\n",
       "    <tr>\n",
       "      <th>1980-12-16 00:00:00-05:00</th>\n",
       "      <td>0.088149</td>\n",
       "      <td>0.088149</td>\n",
       "      <td>0.087715</td>\n",
       "      <td>0.087715</td>\n",
       "      <td>105728000</td>\n",
       "      <td>0.0</td>\n",
       "      <td>0.0</td>\n",
       "    </tr>\n",
       "    <tr>\n",
       "      <th>1980-12-17 00:00:00-05:00</th>\n",
       "      <td>0.089886</td>\n",
       "      <td>0.090321</td>\n",
       "      <td>0.089886</td>\n",
       "      <td>0.089886</td>\n",
       "      <td>86441600</td>\n",
       "      <td>0.0</td>\n",
       "      <td>0.0</td>\n",
       "    </tr>\n",
       "    <tr>\n",
       "      <th>1980-12-18 00:00:00-05:00</th>\n",
       "      <td>0.092492</td>\n",
       "      <td>0.092927</td>\n",
       "      <td>0.092492</td>\n",
       "      <td>0.092492</td>\n",
       "      <td>73449600</td>\n",
       "      <td>0.0</td>\n",
       "      <td>0.0</td>\n",
       "    </tr>\n",
       "  </tbody>\n",
       "</table>\n",
       "</div>"
      ],
      "text/plain": [
       "                               Open      High       Low     Close     Volume  \\\n",
       "Date                                                                           \n",
       "1980-12-12 00:00:00-05:00  0.099874  0.100308  0.099874  0.099874  469033600   \n",
       "1980-12-15 00:00:00-05:00  0.095098  0.095098  0.094663  0.094663  175884800   \n",
       "1980-12-16 00:00:00-05:00  0.088149  0.088149  0.087715  0.087715  105728000   \n",
       "1980-12-17 00:00:00-05:00  0.089886  0.090321  0.089886  0.089886   86441600   \n",
       "1980-12-18 00:00:00-05:00  0.092492  0.092927  0.092492  0.092492   73449600   \n",
       "\n",
       "                           Dividends  Stock Splits  \n",
       "Date                                                \n",
       "1980-12-12 00:00:00-05:00        0.0           0.0  \n",
       "1980-12-15 00:00:00-05:00        0.0           0.0  \n",
       "1980-12-16 00:00:00-05:00        0.0           0.0  \n",
       "1980-12-17 00:00:00-05:00        0.0           0.0  \n",
       "1980-12-18 00:00:00-05:00        0.0           0.0  "
      ]
     },
     "execution_count": 9,
     "metadata": {},
     "output_type": "execute_result"
    }
   ],
   "source": [
    "apple_share_price_data.head()"
   ]
  },
  {
   "cell_type": "markdown",
   "id": "40017f8a-fe53-4653-9ae8-2a6b9c5adaf4",
   "metadata": {},
   "source": [
    "We can reset the index of the DataFrame with the `reset_index` function. We also set the `inplace` paramter to `True` so the change takes place to the DataFrame itself.\n"
   ]
  },
  {
   "cell_type": "code",
   "execution_count": 10,
   "id": "cb89c858-01a3-4c37-bc5b-c6b0d7e29379",
   "metadata": {
    "ExecuteTime": {
     "end_time": "2023-01-05T12:40:03.399709Z",
     "start_time": "2023-01-05T12:40:03.385356Z"
    }
   },
   "outputs": [],
   "source": [
    "apple_share_price_data.reset_index(inplace=True)"
   ]
  },
  {
   "cell_type": "markdown",
   "id": "f7afb969-61f3-4501-afea-b0b00532947a",
   "metadata": {},
   "source": [
    "We can plot the `Open` price against the `Date`:\n"
   ]
  },
  {
   "cell_type": "code",
   "execution_count": 11,
   "id": "a38d85e1-d5cb-409f-9354-9ca78217b6ab",
   "metadata": {
    "ExecuteTime": {
     "end_time": "2023-01-05T12:40:10.312855Z",
     "start_time": "2023-01-05T12:40:08.365001Z"
    }
   },
   "outputs": [
    {
     "data": {
      "text/plain": [
       "<AxesSubplot:xlabel='Date'>"
      ]
     },
     "execution_count": 11,
     "metadata": {},
     "output_type": "execute_result"
    },
    {
     "data": {
      "image/png": "[encoded data removed]",
      "text/plain": [
       "<Figure size 432x288 with 1 Axes>"
      ]
     },
     "metadata": {
      "needs_background": "light"
     },
     "output_type": "display_data"
    }
   ],
   "source": [
    "apple_share_price_data.plot(x=\"Date\", y=\"Open\")"
   ]
  },
  {
   "cell_type": "markdown",
   "id": "3b0099be-6ce4-499d-8c7d-a77ee6de0b6c",
   "metadata": {},
   "source": [
    "### Extracting Dividends\n"
   ]
  },
  {
   "cell_type": "markdown",
   "id": "e71d9a10-da35-4a0e-bef6-9f7d4f84c872",
   "metadata": {},
   "source": [
    "Dividends are the distribution of a companys profits to shareholders. In this case they are defined as an amount of money returned per share an investor owns. Using the variable `dividends` we can get a dataframe of the data. The period of the data is given by the period defined in the 'history` function.\n"
   ]
  },
  {
   "cell_type": "code",
   "execution_count": null,
   "id": "1333b5ab-0dc3-4ec0-bc8e-5d1d8b72f5cb",
   "metadata": {},
   "outputs": [],
   "source": [
    "apple.dividends"
   ]
  },
  {
   "cell_type": "markdown",
   "id": "0a8e2694-2f73-4582-8d2c-3b34ed9c6a2c",
   "metadata": {},
   "source": [
    "We can plot the dividends overtime:\n"
   ]
  },
  {
   "cell_type": "code",
   "execution_count": null,
   "id": "8e051e83-af43-4285-97f6-cdac0dbb7bd4",
   "metadata": {},
   "outputs": [],
   "source": [
    "apple.dividends.plot()"
   ]
  },
  {
   "cell_type": "markdown",
   "id": "accff413-cc6f-4235-ab56-5b7db70028b1",
   "metadata": {},
   "source": [
    "## Exercise \n"
   ]
  },
  {
   "cell_type": "markdown",
   "id": "f9ec225b-9c3a-4589-947a-1615e156dd0c",
   "metadata": {},
   "source": [
    "Now using the `Ticker` module create an object for AMD (Advanced Micro Devices) with the ticker symbol is `AMD` called; name the object <code>amd</code>.\n"
   ]
  },
  {
   "cell_type": "code",
   "execution_count": null,
   "id": "671600dd-0f06-4863-899c-74a0792ce572",
   "metadata": {},
   "outputs": [],
   "source": []
  },
  {
   "cell_type": "markdown",
   "id": "63d86a13-0f6a-4cac-865f-4cd5cff02536",
   "metadata": {},
   "source": [
    "<b>Question 1</b> Use the key  <code>'country'</code> to find the country the stock belongs to, remember it as it will be a quiz question.\n"
   ]
  },
  {
   "cell_type": "code",
   "execution_count": null,
   "id": "63ec3ffd-c987-4a8a-ba8b-9bb1418e9a18",
   "metadata": {},
   "outputs": [],
   "source": []
  },
  {
   "cell_type": "markdown",
   "id": "a11244a8-314d-4d51-8ed3-5b872a722dc4",
   "metadata": {},
   "source": [
    "<b>Question 2</b> Use the key  <code>'sector'</code> to find the sector the stock belongs to, remember it as it will be a quiz question.\n"
   ]
  },
  {
   "cell_type": "code",
   "execution_count": null,
   "id": "a97e107a-631f-4091-9cf0-702b59208f72",
   "metadata": {},
   "outputs": [],
   "source": []
  },
  {
   "cell_type": "markdown",
   "id": "83eda9dd-4740-45bd-9d60-695ca89a5ef1",
   "metadata": {},
   "source": [
    "<b>Question 3</b> Obtain stock data for AMD using the `history` function, set the `period` to max. Find the `Volume` traded on the first day (first row).\n"
   ]
  },
  {
   "cell_type": "code",
   "execution_count": null,
   "id": "c3218f45-cebd-41c0-837e-bcbc7ecd42e6",
   "metadata": {},
   "outputs": [],
   "source": []
  },
  {
   "cell_type": "markdown",
   "id": "fc0771e9-b1cc-453d-8f69-5814db9725ee",
   "metadata": {},
   "source": [
    "<h2>About the Authors:</h2> \n",
    "\n",
    "<a href=\"https://www.linkedin.com/in/joseph-s-50398b136/?utm_medium=Exinfluencer&utm_source=Exinfluencer&utm_content=000026UJ&utm_term=10006555&utm_id=NA-SkillsNetwork-Channel-SkillsNetworkCoursesIBMDeveloperSkillsNetworkPY0220ENSkillsNetwork900-2022-01-01\">Joseph Santarcangelo</a> has a PhD in Electrical Engineering, his research focused on using machine learning, signal processing, and computer vision to determine how videos impact human cognition. Joseph has been working for IBM since he completed his PhD.\n",
    "\n",
    "Azim Hirjani\n"
   ]
  },
  {
   "cell_type": "markdown",
   "id": "8e41b0c5-ccf7-4812-a2df-56210122b71e",
   "metadata": {},
   "source": [
    "## Change Log\n",
    "\n",
    "| Date (YYYY-MM-DD) | Version | Changed By    | Change Description        |\n",
    "| ----------------- | ------- | ------------- | ------------------------- |\n",
    "| 2020-11-10        | 1.1     | Malika Singla | Deleted the Optional part |\n",
    "| 2020-08-27        | 1.0     | Malika Singla | Added lab to GitLab       |\n",
    "\n",
    "<hr>\n",
    "\n",
    "## <h3 align=\"center\"> © IBM Corporation 2020. All rights reserved. <h3/>\n",
    "\n",
    "<p>\n"
   ]
  }
 ],
 "metadata": {
  "kernelspec": {
   "display_name": "Python 3 (ipykernel)",
   "language": "python",
   "name": "python3"
  },
  "language_info": {
   "codemirror_mode": {
    "name": "ipython",
    "version": 3
   },
   "file_extension": ".py",
   "mimetype": "text/x-python",
   "name": "python",
   "nbconvert_exporter": "python",
   "pygments_lexer": "ipython3",
   "version": "3.9.12"
  },
  "latex_envs": {
   "LaTeX_envs_menu_present": true,
   "autoclose": false,
   "autocomplete": true,
   "bibliofile": "biblio.bib",
   "cite_by": "apalike",
   "current_citInitial": 1,
   "eqLabelWithNumbers": true,
   "eqNumInitial": 1,
   "hotkeys": {
    "equation": "Ctrl-E",
    "itemize": "Ctrl-I"
   },
   "labels_anchors": false,
   "latex_user_defs": false,
   "report_style_numbering": false,
   "user_envs_cfg": false
  },
  "toc": {
   "base_numbering": 1,
   "nav_menu": {},
   "number_sections": true,
   "sideBar": true,
   "skip_h1_title": false,
   "title_cell": "Table of Contents",
   "title_sidebar": "Contents",
   "toc_cell": false,
   "toc_position": {},
   "toc_section_display": true,
   "toc_window_display": false
  },
  "varInspector": {
   "cols": {
    "lenName": 16,
    "lenType": 16,
    "lenVar": 40
   },
   "kernels_config": {
    "python": {
     "delete_cmd_postfix": "",
     "delete_cmd_prefix": "del ",
     "library": "var_list.py",
     "varRefreshCmd": "print(var_dic_list())"
    },
    "r": {
     "delete_cmd_postfix": ") ",
     "delete_cmd_prefix": "rm(",
     "library": "var_list.r",
     "varRefreshCmd": "cat(var_dic_list()) "
    }
   },
   "types_to_exclude": [
    "module",
    "function",
    "builtin_function_or_method",
    "instance",
    "_Feature"
   ],
   "window_display": false
  }
 },
 "nbformat": 4,
 "nbformat_minor": 4
}
